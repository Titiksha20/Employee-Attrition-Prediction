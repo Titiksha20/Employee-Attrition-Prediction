{
  "nbformat": 4,
  "nbformat_minor": 0,
  "metadata": {
    "kernelspec": {
      "display_name": "Python 3",
      "language": "python",
      "name": "python3"
    },
    "language_info": {
      "codemirror_mode": {
        "name": "ipython",
        "version": 3
      },
      "file_extension": ".py",
      "mimetype": "text/x-python",
      "name": "python",
      "nbconvert_exporter": "python",
      "pygments_lexer": "ipython3",
      "version": "3.7.6"
    },
    "colab": {
      "name": "Employee Attrition Prediction .ipynb",
      "provenance": [],
      "include_colab_link": true
    }
  },
  "cells": [
    {
      "cell_type": "markdown",
      "metadata": {
        "id": "view-in-github",
        "colab_type": "text"
      },
      "source": [
        "<a href=\"https://colab.research.google.com/github/Titiksha20/Employee-Attrition-Prediction/blob/main/Employee_Attrition_Prediction_.ipynb\" target=\"_parent\"><img src=\"https://colab.research.google.com/assets/colab-badge.svg\" alt=\"Open In Colab\"/></a>"
      ]
    },
    {
      "cell_type": "code",
      "metadata": {
        "id": "XcgwPIkehHnY"
      },
      "source": [
        "import numpy as np\n",
        "import pandas as pd\n",
        "import matplotlib.pyplot as plt"
      ],
      "execution_count": 24,
      "outputs": []
    },
    {
      "cell_type": "code",
      "metadata": {
        "id": "MNf-bWqEhHnZ"
      },
      "source": [
        "data = pd.read_csv('train.csv')\n",
        "data2 = pd.read_csv('test.csv')"
      ],
      "execution_count": 25,
      "outputs": []
    },
    {
      "cell_type": "code",
      "metadata": {
        "colab": {
          "base_uri": "https://localhost:8080/",
          "height": 222
        },
        "id": "_BzPPK_ThHna",
        "outputId": "1802844f-d16a-435e-e25e-48b0ef0100af"
      },
      "source": [
        "data.head()"
      ],
      "execution_count": 46,
      "outputs": [
        {
          "output_type": "execute_result",
          "data": {
            "text/html": [
              "<div>\n",
              "<style scoped>\n",
              "    .dataframe tbody tr th:only-of-type {\n",
              "        vertical-align: middle;\n",
              "    }\n",
              "\n",
              "    .dataframe tbody tr th {\n",
              "        vertical-align: top;\n",
              "    }\n",
              "\n",
              "    .dataframe thead th {\n",
              "        text-align: right;\n",
              "    }\n",
              "</style>\n",
              "<table border=\"1\" class=\"dataframe\">\n",
              "  <thead>\n",
              "    <tr style=\"text-align: right;\">\n",
              "      <th></th>\n",
              "      <th>Id</th>\n",
              "      <th>Age</th>\n",
              "      <th>Attrition</th>\n",
              "      <th>BusinessTravel</th>\n",
              "      <th>Department</th>\n",
              "      <th>DistanceFromHome</th>\n",
              "      <th>Education</th>\n",
              "      <th>EducationField</th>\n",
              "      <th>EmployeeNumber</th>\n",
              "      <th>EnvironmentSatisfaction</th>\n",
              "      <th>Gender</th>\n",
              "      <th>JobInvolvement</th>\n",
              "      <th>JobRole</th>\n",
              "      <th>JobSatisfaction</th>\n",
              "      <th>MaritalStatus</th>\n",
              "      <th>MonthlyIncome</th>\n",
              "      <th>NumCompaniesWorked</th>\n",
              "      <th>OverTime</th>\n",
              "      <th>PercentSalaryHike</th>\n",
              "      <th>PerformanceRating</th>\n",
              "      <th>StockOptionLevel</th>\n",
              "      <th>TotalWorkingYears</th>\n",
              "      <th>TrainingTimesLastYear</th>\n",
              "      <th>YearsAtCompany</th>\n",
              "      <th>YearsInCurrentRole</th>\n",
              "      <th>YearsSinceLastPromotion</th>\n",
              "      <th>YearsWithCurrManager</th>\n",
              "      <th>CommunicationSkill</th>\n",
              "      <th>Behaviour</th>\n",
              "    </tr>\n",
              "  </thead>\n",
              "  <tbody>\n",
              "    <tr>\n",
              "      <th>0</th>\n",
              "      <td>1</td>\n",
              "      <td>30</td>\n",
              "      <td>0</td>\n",
              "      <td>0</td>\n",
              "      <td>1</td>\n",
              "      <td>2</td>\n",
              "      <td>3</td>\n",
              "      <td>3</td>\n",
              "      <td>571</td>\n",
              "      <td>3</td>\n",
              "      <td>0</td>\n",
              "      <td>3</td>\n",
              "      <td>2</td>\n",
              "      <td>4</td>\n",
              "      <td>2</td>\n",
              "      <td>2564</td>\n",
              "      <td>0</td>\n",
              "      <td>0</td>\n",
              "      <td>14</td>\n",
              "      <td>3</td>\n",
              "      <td>0</td>\n",
              "      <td>12</td>\n",
              "      <td>2</td>\n",
              "      <td>11</td>\n",
              "      <td>7</td>\n",
              "      <td>6</td>\n",
              "      <td>7</td>\n",
              "      <td>4</td>\n",
              "      <td>1</td>\n",
              "    </tr>\n",
              "    <tr>\n",
              "      <th>1</th>\n",
              "      <td>2</td>\n",
              "      <td>36</td>\n",
              "      <td>0</td>\n",
              "      <td>2</td>\n",
              "      <td>1</td>\n",
              "      <td>12</td>\n",
              "      <td>4</td>\n",
              "      <td>1</td>\n",
              "      <td>1614</td>\n",
              "      <td>3</td>\n",
              "      <td>0</td>\n",
              "      <td>3</td>\n",
              "      <td>4</td>\n",
              "      <td>3</td>\n",
              "      <td>1</td>\n",
              "      <td>4663</td>\n",
              "      <td>9</td>\n",
              "      <td>1</td>\n",
              "      <td>12</td>\n",
              "      <td>3</td>\n",
              "      <td>2</td>\n",
              "      <td>7</td>\n",
              "      <td>2</td>\n",
              "      <td>3</td>\n",
              "      <td>2</td>\n",
              "      <td>1</td>\n",
              "      <td>1</td>\n",
              "      <td>2</td>\n",
              "      <td>1</td>\n",
              "    </tr>\n",
              "    <tr>\n",
              "      <th>2</th>\n",
              "      <td>3</td>\n",
              "      <td>55</td>\n",
              "      <td>1</td>\n",
              "      <td>2</td>\n",
              "      <td>2</td>\n",
              "      <td>2</td>\n",
              "      <td>1</td>\n",
              "      <td>3</td>\n",
              "      <td>842</td>\n",
              "      <td>3</td>\n",
              "      <td>1</td>\n",
              "      <td>3</td>\n",
              "      <td>7</td>\n",
              "      <td>4</td>\n",
              "      <td>2</td>\n",
              "      <td>5160</td>\n",
              "      <td>4</td>\n",
              "      <td>0</td>\n",
              "      <td>16</td>\n",
              "      <td>3</td>\n",
              "      <td>0</td>\n",
              "      <td>12</td>\n",
              "      <td>3</td>\n",
              "      <td>9</td>\n",
              "      <td>7</td>\n",
              "      <td>7</td>\n",
              "      <td>3</td>\n",
              "      <td>5</td>\n",
              "      <td>1</td>\n",
              "    </tr>\n",
              "    <tr>\n",
              "      <th>3</th>\n",
              "      <td>4</td>\n",
              "      <td>39</td>\n",
              "      <td>0</td>\n",
              "      <td>2</td>\n",
              "      <td>1</td>\n",
              "      <td>24</td>\n",
              "      <td>1</td>\n",
              "      <td>1</td>\n",
              "      <td>2014</td>\n",
              "      <td>1</td>\n",
              "      <td>1</td>\n",
              "      <td>3</td>\n",
              "      <td>6</td>\n",
              "      <td>4</td>\n",
              "      <td>2</td>\n",
              "      <td>4108</td>\n",
              "      <td>7</td>\n",
              "      <td>0</td>\n",
              "      <td>13</td>\n",
              "      <td>3</td>\n",
              "      <td>0</td>\n",
              "      <td>18</td>\n",
              "      <td>2</td>\n",
              "      <td>7</td>\n",
              "      <td>7</td>\n",
              "      <td>1</td>\n",
              "      <td>7</td>\n",
              "      <td>4</td>\n",
              "      <td>1</td>\n",
              "    </tr>\n",
              "    <tr>\n",
              "      <th>4</th>\n",
              "      <td>5</td>\n",
              "      <td>37</td>\n",
              "      <td>0</td>\n",
              "      <td>2</td>\n",
              "      <td>1</td>\n",
              "      <td>3</td>\n",
              "      <td>3</td>\n",
              "      <td>4</td>\n",
              "      <td>689</td>\n",
              "      <td>3</td>\n",
              "      <td>1</td>\n",
              "      <td>3</td>\n",
              "      <td>4</td>\n",
              "      <td>3</td>\n",
              "      <td>1</td>\n",
              "      <td>9434</td>\n",
              "      <td>1</td>\n",
              "      <td>0</td>\n",
              "      <td>15</td>\n",
              "      <td>3</td>\n",
              "      <td>1</td>\n",
              "      <td>10</td>\n",
              "      <td>2</td>\n",
              "      <td>10</td>\n",
              "      <td>7</td>\n",
              "      <td>7</td>\n",
              "      <td>8</td>\n",
              "      <td>1</td>\n",
              "      <td>1</td>\n",
              "    </tr>\n",
              "  </tbody>\n",
              "</table>\n",
              "</div>"
            ],
            "text/plain": [
              "   Id  Age  Attrition  ...  YearsWithCurrManager  CommunicationSkill  Behaviour\n",
              "0   1   30          0  ...                     7                   4          1\n",
              "1   2   36          0  ...                     1                   2          1\n",
              "2   3   55          1  ...                     3                   5          1\n",
              "3   4   39          0  ...                     7                   4          1\n",
              "4   5   37          0  ...                     8                   1          1\n",
              "\n",
              "[5 rows x 29 columns]"
            ]
          },
          "metadata": {
            "tags": []
          },
          "execution_count": 46
        }
      ]
    },
    {
      "cell_type": "code",
      "metadata": {
        "id": "c7KhI4bahHna"
      },
      "source": [
        "df = data.drop_duplicates()"
      ],
      "execution_count": 27,
      "outputs": []
    },
    {
      "cell_type": "code",
      "metadata": {
        "colab": {
          "base_uri": "https://localhost:8080/"
        },
        "id": "xYv5U7WehHnb",
        "outputId": "4d04838c-04a2-45e8-8756-8cfb06cbbb13"
      },
      "source": [
        "data.duplicated().any()"
      ],
      "execution_count": 29,
      "outputs": [
        {
          "output_type": "execute_result",
          "data": {
            "text/plain": [
              "False"
            ]
          },
          "metadata": {
            "tags": []
          },
          "execution_count": 29
        }
      ]
    },
    {
      "cell_type": "code",
      "metadata": {
        "id": "2b5bFzGnhHnb"
      },
      "source": [
        "from sklearn.preprocessing import LabelEncoder\n"
      ],
      "execution_count": 30,
      "outputs": []
    },
    {
      "cell_type": "code",
      "metadata": {
        "id": "g30g3eVQhHnb"
      },
      "source": [
        "for columns in data.columns:\n",
        "    if data[columns].dtype == int:\n",
        "        continue\n",
        "    else:\n",
        "        data[columns] = LabelEncoder().fit_transform(data[columns])"
      ],
      "execution_count": 31,
      "outputs": []
    },
    {
      "cell_type": "code",
      "metadata": {
        "colab": {
          "base_uri": "https://localhost:8080/",
          "height": 222
        },
        "id": "_jDVGc-IhHnb",
        "outputId": "27cf639f-e73f-49dc-f03e-c52f5b83f779"
      },
      "source": [
        "data2.head()"
      ],
      "execution_count": 47,
      "outputs": [
        {
          "output_type": "execute_result",
          "data": {
            "text/html": [
              "<div>\n",
              "<style scoped>\n",
              "    .dataframe tbody tr th:only-of-type {\n",
              "        vertical-align: middle;\n",
              "    }\n",
              "\n",
              "    .dataframe tbody tr th {\n",
              "        vertical-align: top;\n",
              "    }\n",
              "\n",
              "    .dataframe thead th {\n",
              "        text-align: right;\n",
              "    }\n",
              "</style>\n",
              "<table border=\"1\" class=\"dataframe\">\n",
              "  <thead>\n",
              "    <tr style=\"text-align: right;\">\n",
              "      <th></th>\n",
              "      <th>Id</th>\n",
              "      <th>Age</th>\n",
              "      <th>BusinessTravel</th>\n",
              "      <th>Department</th>\n",
              "      <th>DistanceFromHome</th>\n",
              "      <th>Education</th>\n",
              "      <th>EducationField</th>\n",
              "      <th>EmployeeNumber</th>\n",
              "      <th>EnvironmentSatisfaction</th>\n",
              "      <th>Gender</th>\n",
              "      <th>JobInvolvement</th>\n",
              "      <th>JobRole</th>\n",
              "      <th>JobSatisfaction</th>\n",
              "      <th>MaritalStatus</th>\n",
              "      <th>MonthlyIncome</th>\n",
              "      <th>NumCompaniesWorked</th>\n",
              "      <th>OverTime</th>\n",
              "      <th>PercentSalaryHike</th>\n",
              "      <th>PerformanceRating</th>\n",
              "      <th>StockOptionLevel</th>\n",
              "      <th>TotalWorkingYears</th>\n",
              "      <th>TrainingTimesLastYear</th>\n",
              "      <th>YearsAtCompany</th>\n",
              "      <th>YearsInCurrentRole</th>\n",
              "      <th>YearsSinceLastPromotion</th>\n",
              "      <th>YearsWithCurrManager</th>\n",
              "      <th>CommunicationSkill</th>\n",
              "      <th>Behaviour</th>\n",
              "    </tr>\n",
              "  </thead>\n",
              "  <tbody>\n",
              "    <tr>\n",
              "      <th>0</th>\n",
              "      <td>1</td>\n",
              "      <td>28</td>\n",
              "      <td>2</td>\n",
              "      <td>1</td>\n",
              "      <td>9</td>\n",
              "      <td>3</td>\n",
              "      <td>3</td>\n",
              "      <td>377</td>\n",
              "      <td>4</td>\n",
              "      <td>1</td>\n",
              "      <td>3</td>\n",
              "      <td>6</td>\n",
              "      <td>4</td>\n",
              "      <td>1</td>\n",
              "      <td>2070</td>\n",
              "      <td>1</td>\n",
              "      <td>0</td>\n",
              "      <td>23</td>\n",
              "      <td>4</td>\n",
              "      <td>1</td>\n",
              "      <td>5</td>\n",
              "      <td>3</td>\n",
              "      <td>5</td>\n",
              "      <td>2</td>\n",
              "      <td>0</td>\n",
              "      <td>4</td>\n",
              "      <td>5</td>\n",
              "      <td>1</td>\n",
              "    </tr>\n",
              "    <tr>\n",
              "      <th>1</th>\n",
              "      <td>2</td>\n",
              "      <td>31</td>\n",
              "      <td>2</td>\n",
              "      <td>2</td>\n",
              "      <td>6</td>\n",
              "      <td>4</td>\n",
              "      <td>3</td>\n",
              "      <td>653</td>\n",
              "      <td>1</td>\n",
              "      <td>1</td>\n",
              "      <td>4</td>\n",
              "      <td>7</td>\n",
              "      <td>4</td>\n",
              "      <td>0</td>\n",
              "      <td>5460</td>\n",
              "      <td>4</td>\n",
              "      <td>0</td>\n",
              "      <td>22</td>\n",
              "      <td>4</td>\n",
              "      <td>2</td>\n",
              "      <td>13</td>\n",
              "      <td>4</td>\n",
              "      <td>7</td>\n",
              "      <td>7</td>\n",
              "      <td>5</td>\n",
              "      <td>7</td>\n",
              "      <td>3</td>\n",
              "      <td>1</td>\n",
              "    </tr>\n",
              "    <tr>\n",
              "      <th>2</th>\n",
              "      <td>3</td>\n",
              "      <td>37</td>\n",
              "      <td>2</td>\n",
              "      <td>1</td>\n",
              "      <td>6</td>\n",
              "      <td>3</td>\n",
              "      <td>3</td>\n",
              "      <td>474</td>\n",
              "      <td>3</td>\n",
              "      <td>1</td>\n",
              "      <td>4</td>\n",
              "      <td>6</td>\n",
              "      <td>1</td>\n",
              "      <td>0</td>\n",
              "      <td>5974</td>\n",
              "      <td>4</td>\n",
              "      <td>1</td>\n",
              "      <td>13</td>\n",
              "      <td>3</td>\n",
              "      <td>2</td>\n",
              "      <td>13</td>\n",
              "      <td>2</td>\n",
              "      <td>7</td>\n",
              "      <td>7</td>\n",
              "      <td>6</td>\n",
              "      <td>7</td>\n",
              "      <td>4</td>\n",
              "      <td>1</td>\n",
              "    </tr>\n",
              "    <tr>\n",
              "      <th>3</th>\n",
              "      <td>4</td>\n",
              "      <td>42</td>\n",
              "      <td>2</td>\n",
              "      <td>1</td>\n",
              "      <td>1</td>\n",
              "      <td>2</td>\n",
              "      <td>1</td>\n",
              "      <td>827</td>\n",
              "      <td>4</td>\n",
              "      <td>0</td>\n",
              "      <td>2</td>\n",
              "      <td>4</td>\n",
              "      <td>4</td>\n",
              "      <td>1</td>\n",
              "      <td>6062</td>\n",
              "      <td>9</td>\n",
              "      <td>1</td>\n",
              "      <td>13</td>\n",
              "      <td>3</td>\n",
              "      <td>1</td>\n",
              "      <td>8</td>\n",
              "      <td>4</td>\n",
              "      <td>4</td>\n",
              "      <td>3</td>\n",
              "      <td>0</td>\n",
              "      <td>2</td>\n",
              "      <td>5</td>\n",
              "      <td>1</td>\n",
              "    </tr>\n",
              "    <tr>\n",
              "      <th>4</th>\n",
              "      <td>5</td>\n",
              "      <td>45</td>\n",
              "      <td>0</td>\n",
              "      <td>1</td>\n",
              "      <td>4</td>\n",
              "      <td>2</td>\n",
              "      <td>1</td>\n",
              "      <td>972</td>\n",
              "      <td>3</td>\n",
              "      <td>1</td>\n",
              "      <td>3</td>\n",
              "      <td>2</td>\n",
              "      <td>2</td>\n",
              "      <td>1</td>\n",
              "      <td>4447</td>\n",
              "      <td>1</td>\n",
              "      <td>0</td>\n",
              "      <td>12</td>\n",
              "      <td>3</td>\n",
              "      <td>0</td>\n",
              "      <td>9</td>\n",
              "      <td>5</td>\n",
              "      <td>9</td>\n",
              "      <td>7</td>\n",
              "      <td>0</td>\n",
              "      <td>8</td>\n",
              "      <td>2</td>\n",
              "      <td>1</td>\n",
              "    </tr>\n",
              "  </tbody>\n",
              "</table>\n",
              "</div>"
            ],
            "text/plain": [
              "   Id  Age  BusinessTravel  ...  YearsWithCurrManager  CommunicationSkill  Behaviour\n",
              "0   1   28               2  ...                     4                   5          1\n",
              "1   2   31               2  ...                     7                   3          1\n",
              "2   3   37               2  ...                     7                   4          1\n",
              "3   4   42               2  ...                     2                   5          1\n",
              "4   5   45               0  ...                     8                   2          1\n",
              "\n",
              "[5 rows x 28 columns]"
            ]
          },
          "metadata": {
            "tags": []
          },
          "execution_count": 47
        }
      ]
    },
    {
      "cell_type": "code",
      "metadata": {
        "scrolled": true,
        "id": "4fA8auTThHnc"
      },
      "source": [
        "for columns in data2.columns:\n",
        "    if data2[columns].dtype == int:\n",
        "        continue\n",
        "    else:\n",
        "        data2[columns] = LabelEncoder().fit_transform(data2[columns])"
      ],
      "execution_count": 48,
      "outputs": []
    },
    {
      "cell_type": "code",
      "metadata": {
        "scrolled": false,
        "colab": {
          "base_uri": "https://localhost:8080/",
          "height": 222
        },
        "id": "K6Z1Tip8hHnc",
        "outputId": "41a93f8e-7297-4145-eb09-1fa187c9e72a"
      },
      "source": [
        "\n",
        "data2.head()"
      ],
      "execution_count": 49,
      "outputs": [
        {
          "output_type": "execute_result",
          "data": {
            "text/html": [
              "<div>\n",
              "<style scoped>\n",
              "    .dataframe tbody tr th:only-of-type {\n",
              "        vertical-align: middle;\n",
              "    }\n",
              "\n",
              "    .dataframe tbody tr th {\n",
              "        vertical-align: top;\n",
              "    }\n",
              "\n",
              "    .dataframe thead th {\n",
              "        text-align: right;\n",
              "    }\n",
              "</style>\n",
              "<table border=\"1\" class=\"dataframe\">\n",
              "  <thead>\n",
              "    <tr style=\"text-align: right;\">\n",
              "      <th></th>\n",
              "      <th>Id</th>\n",
              "      <th>Age</th>\n",
              "      <th>BusinessTravel</th>\n",
              "      <th>Department</th>\n",
              "      <th>DistanceFromHome</th>\n",
              "      <th>Education</th>\n",
              "      <th>EducationField</th>\n",
              "      <th>EmployeeNumber</th>\n",
              "      <th>EnvironmentSatisfaction</th>\n",
              "      <th>Gender</th>\n",
              "      <th>JobInvolvement</th>\n",
              "      <th>JobRole</th>\n",
              "      <th>JobSatisfaction</th>\n",
              "      <th>MaritalStatus</th>\n",
              "      <th>MonthlyIncome</th>\n",
              "      <th>NumCompaniesWorked</th>\n",
              "      <th>OverTime</th>\n",
              "      <th>PercentSalaryHike</th>\n",
              "      <th>PerformanceRating</th>\n",
              "      <th>StockOptionLevel</th>\n",
              "      <th>TotalWorkingYears</th>\n",
              "      <th>TrainingTimesLastYear</th>\n",
              "      <th>YearsAtCompany</th>\n",
              "      <th>YearsInCurrentRole</th>\n",
              "      <th>YearsSinceLastPromotion</th>\n",
              "      <th>YearsWithCurrManager</th>\n",
              "      <th>CommunicationSkill</th>\n",
              "      <th>Behaviour</th>\n",
              "    </tr>\n",
              "  </thead>\n",
              "  <tbody>\n",
              "    <tr>\n",
              "      <th>0</th>\n",
              "      <td>1</td>\n",
              "      <td>28</td>\n",
              "      <td>2</td>\n",
              "      <td>1</td>\n",
              "      <td>9</td>\n",
              "      <td>3</td>\n",
              "      <td>3</td>\n",
              "      <td>377</td>\n",
              "      <td>4</td>\n",
              "      <td>1</td>\n",
              "      <td>3</td>\n",
              "      <td>6</td>\n",
              "      <td>4</td>\n",
              "      <td>1</td>\n",
              "      <td>2070</td>\n",
              "      <td>1</td>\n",
              "      <td>0</td>\n",
              "      <td>23</td>\n",
              "      <td>4</td>\n",
              "      <td>1</td>\n",
              "      <td>5</td>\n",
              "      <td>3</td>\n",
              "      <td>5</td>\n",
              "      <td>2</td>\n",
              "      <td>0</td>\n",
              "      <td>4</td>\n",
              "      <td>5</td>\n",
              "      <td>1</td>\n",
              "    </tr>\n",
              "    <tr>\n",
              "      <th>1</th>\n",
              "      <td>2</td>\n",
              "      <td>31</td>\n",
              "      <td>2</td>\n",
              "      <td>2</td>\n",
              "      <td>6</td>\n",
              "      <td>4</td>\n",
              "      <td>3</td>\n",
              "      <td>653</td>\n",
              "      <td>1</td>\n",
              "      <td>1</td>\n",
              "      <td>4</td>\n",
              "      <td>7</td>\n",
              "      <td>4</td>\n",
              "      <td>0</td>\n",
              "      <td>5460</td>\n",
              "      <td>4</td>\n",
              "      <td>0</td>\n",
              "      <td>22</td>\n",
              "      <td>4</td>\n",
              "      <td>2</td>\n",
              "      <td>13</td>\n",
              "      <td>4</td>\n",
              "      <td>7</td>\n",
              "      <td>7</td>\n",
              "      <td>5</td>\n",
              "      <td>7</td>\n",
              "      <td>3</td>\n",
              "      <td>1</td>\n",
              "    </tr>\n",
              "    <tr>\n",
              "      <th>2</th>\n",
              "      <td>3</td>\n",
              "      <td>37</td>\n",
              "      <td>2</td>\n",
              "      <td>1</td>\n",
              "      <td>6</td>\n",
              "      <td>3</td>\n",
              "      <td>3</td>\n",
              "      <td>474</td>\n",
              "      <td>3</td>\n",
              "      <td>1</td>\n",
              "      <td>4</td>\n",
              "      <td>6</td>\n",
              "      <td>1</td>\n",
              "      <td>0</td>\n",
              "      <td>5974</td>\n",
              "      <td>4</td>\n",
              "      <td>1</td>\n",
              "      <td>13</td>\n",
              "      <td>3</td>\n",
              "      <td>2</td>\n",
              "      <td>13</td>\n",
              "      <td>2</td>\n",
              "      <td>7</td>\n",
              "      <td>7</td>\n",
              "      <td>6</td>\n",
              "      <td>7</td>\n",
              "      <td>4</td>\n",
              "      <td>1</td>\n",
              "    </tr>\n",
              "    <tr>\n",
              "      <th>3</th>\n",
              "      <td>4</td>\n",
              "      <td>42</td>\n",
              "      <td>2</td>\n",
              "      <td>1</td>\n",
              "      <td>1</td>\n",
              "      <td>2</td>\n",
              "      <td>1</td>\n",
              "      <td>827</td>\n",
              "      <td>4</td>\n",
              "      <td>0</td>\n",
              "      <td>2</td>\n",
              "      <td>4</td>\n",
              "      <td>4</td>\n",
              "      <td>1</td>\n",
              "      <td>6062</td>\n",
              "      <td>9</td>\n",
              "      <td>1</td>\n",
              "      <td>13</td>\n",
              "      <td>3</td>\n",
              "      <td>1</td>\n",
              "      <td>8</td>\n",
              "      <td>4</td>\n",
              "      <td>4</td>\n",
              "      <td>3</td>\n",
              "      <td>0</td>\n",
              "      <td>2</td>\n",
              "      <td>5</td>\n",
              "      <td>1</td>\n",
              "    </tr>\n",
              "    <tr>\n",
              "      <th>4</th>\n",
              "      <td>5</td>\n",
              "      <td>45</td>\n",
              "      <td>0</td>\n",
              "      <td>1</td>\n",
              "      <td>4</td>\n",
              "      <td>2</td>\n",
              "      <td>1</td>\n",
              "      <td>972</td>\n",
              "      <td>3</td>\n",
              "      <td>1</td>\n",
              "      <td>3</td>\n",
              "      <td>2</td>\n",
              "      <td>2</td>\n",
              "      <td>1</td>\n",
              "      <td>4447</td>\n",
              "      <td>1</td>\n",
              "      <td>0</td>\n",
              "      <td>12</td>\n",
              "      <td>3</td>\n",
              "      <td>0</td>\n",
              "      <td>9</td>\n",
              "      <td>5</td>\n",
              "      <td>9</td>\n",
              "      <td>7</td>\n",
              "      <td>0</td>\n",
              "      <td>8</td>\n",
              "      <td>2</td>\n",
              "      <td>1</td>\n",
              "    </tr>\n",
              "  </tbody>\n",
              "</table>\n",
              "</div>"
            ],
            "text/plain": [
              "   Id  Age  BusinessTravel  ...  YearsWithCurrManager  CommunicationSkill  Behaviour\n",
              "0   1   28               2  ...                     4                   5          1\n",
              "1   2   31               2  ...                     7                   3          1\n",
              "2   3   37               2  ...                     7                   4          1\n",
              "3   4   42               2  ...                     2                   5          1\n",
              "4   5   45               0  ...                     8                   2          1\n",
              "\n",
              "[5 rows x 28 columns]"
            ]
          },
          "metadata": {
            "tags": []
          },
          "execution_count": 49
        }
      ]
    },
    {
      "cell_type": "code",
      "metadata": {
        "id": "tpVRuYFphHnc"
      },
      "source": [
        "from sklearn.model_selection import train_test_split as tts"
      ],
      "execution_count": 50,
      "outputs": []
    },
    {
      "cell_type": "code",
      "metadata": {
        "id": "t5wOyexxhHnc"
      },
      "source": [
        "import matplotlib.pyplot as plt"
      ],
      "execution_count": 51,
      "outputs": []
    },
    {
      "cell_type": "code",
      "metadata": {
        "id": "sxAxGsH6hHnd"
      },
      "source": [
        "X_train , y_train = data.drop('Attrition',axis = 1),data['Attrition']\n",
        "X_test = data2"
      ],
      "execution_count": 52,
      "outputs": []
    },
    {
      "cell_type": "code",
      "metadata": {
        "colab": {
          "base_uri": "https://localhost:8080/"
        },
        "id": "_FBqPadEhHnd",
        "outputId": "5fc6571b-2cf2-42d6-9bcc-ac0405df715c"
      },
      "source": [
        "data.skew()"
      ],
      "execution_count": 53,
      "outputs": [
        {
          "output_type": "execute_result",
          "data": {
            "text/plain": [
              "Id                         0.000000\n",
              "Age                        0.431541\n",
              "Attrition                  0.071364\n",
              "BusinessTravel            -1.324338\n",
              "Department                -0.029569\n",
              "DistanceFromHome           0.868562\n",
              "Education                 -0.316489\n",
              "EducationField             0.501264\n",
              "EmployeeNumber             0.087232\n",
              "EnvironmentSatisfaction   -0.237162\n",
              "Gender                    -0.459212\n",
              "JobInvolvement            -0.509537\n",
              "JobRole                   -0.397307\n",
              "JobSatisfaction           -0.248297\n",
              "MaritalStatus             -0.321249\n",
              "MonthlyIncome              1.561333\n",
              "NumCompaniesWorked         0.985959\n",
              "OverTime                   0.469855\n",
              "PercentSalaryHike          0.831123\n",
              "PerformanceRating          1.904065\n",
              "StockOptionLevel           1.208191\n",
              "TotalWorkingYears          1.169746\n",
              "TrainingTimesLastYear      0.466597\n",
              "YearsAtCompany             1.943081\n",
              "YearsInCurrentRole         1.115557\n",
              "YearsSinceLastPromotion    2.071732\n",
              "YearsWithCurrManager       1.015049\n",
              "CommunicationSkill        -0.106987\n",
              "Behaviour                  0.000000\n",
              "dtype: float64"
            ]
          },
          "metadata": {
            "tags": []
          },
          "execution_count": 53
        }
      ]
    },
    {
      "cell_type": "code",
      "metadata": {
        "id": "HgtytwRahHnd"
      },
      "source": [
        "\n",
        "from sklearn.ensemble import RandomForestRegressor\n",
        "from sklearn.datasets import make_classification\n",
        "from sklearn.tree import DecisionTreeClassifier\n",
        "from sklearn.linear_model import LogisticRegression\n",
        "from sklearn.metrics import roc_curve, roc_auc_score\n",
        "from sklearn.model_selection import train_test_split\n",
        "import matplotlib.pyplot as plt"
      ],
      "execution_count": 54,
      "outputs": []
    },
    {
      "cell_type": "code",
      "metadata": {
        "colab": {
          "base_uri": "https://localhost:8080/"
        },
        "id": "9cFBM0E1hHnd",
        "outputId": "0f5030a9-3b12-4796-9827-bd501e7368a3"
      },
      "source": [
        "X_train, X_test, y_train, y_test = train_test_split(data.drop('Attrition',axis = 1),data['Attrition'],test_size = 0.2,random_state = 1)\n",
        "\n",
        "clf1 = DecisionTreeClassifier(); clf2 = LogisticRegression();\n",
        "\n",
        "clf1.fit(X_train, y_train); clf2.fit(X_train, y_train);\n",
        "\n",
        "    \n",
        "y_score1 = clf1.predict_proba(X_test)[:,1]\n",
        "y_score2 = clf2.predict_proba(X_test)[:,1]"
      ],
      "execution_count": 55,
      "outputs": [
        {
          "output_type": "stream",
          "text": [
            "/usr/local/lib/python3.7/dist-packages/sklearn/linear_model/_logistic.py:940: ConvergenceWarning: lbfgs failed to converge (status=1):\n",
            "STOP: TOTAL NO. of ITERATIONS REACHED LIMIT.\n",
            "\n",
            "Increase the number of iterations (max_iter) or scale the data as shown in:\n",
            "    https://scikit-learn.org/stable/modules/preprocessing.html\n",
            "Please also refer to the documentation for alternative solver options:\n",
            "    https://scikit-learn.org/stable/modules/linear_model.html#logistic-regression\n",
            "  extra_warning_msg=_LOGISTIC_SOLVER_CONVERGENCE_MSG)\n"
          ],
          "name": "stderr"
        }
      ]
    },
    {
      "cell_type": "code",
      "metadata": {
        "colab": {
          "base_uri": "https://localhost:8080/",
          "height": 1000
        },
        "id": "tRtnc3uFhHne",
        "outputId": "80508b3a-74e1-4f41-fe8f-f7d08a24a085"
      },
      "source": [
        "false_positive_rate1, true_positive_rate1, threshold1 = roc_curve(y_test, y_score1)\n",
        "false_positive_rate2, true_positive_rate2, threshold2 = roc_curve(y_test, y_score2)\n",
        "print('roc_auc_score for DecisionTree: ', roc_auc_score(y_test, y_score1))\n",
        "print('roc_auc_score for Logistic Regression: ', roc_auc_score(y_test, y_score2))\n",
        "\n",
        "    \n",
        "plt.subplots(1, figsize=(10,10))\n",
        "plt.title('Receiver Operating Characteristic - DecisionTree')\n",
        "plt.plot(false_positive_rate1, true_positive_rate1)\n",
        "plt.plot([0, 1], ls=\"--\")\n",
        "plt.plot([0, 0], [1, 0] , c=\".7\"), plt.plot([1, 1] , c=\".7\")\n",
        "plt.ylabel('True Positive Rate')\n",
        "plt.xlabel('False Positive Rate')\n",
        "plt.show()\n",
        "\n",
        "plt.subplots(1, figsize=(10,10))\n",
        "plt.title('Receiver Operating Characteristic - Logistic regression')\n",
        "plt.plot(false_positive_rate2, true_positive_rate2)\n",
        "plt.plot([0, 1], ls=\"--\")\n",
        "plt.plot([0, 0], [1, 0] , c=\".7\"), plt.plot([1, 1] , c=\".7\")\n",
        "plt.ylabel('True Positive Rate')\n",
        "plt.xlabel('False Positive Rate')\n",
        "plt.show()"
      ],
      "execution_count": 56,
      "outputs": [
        {
          "output_type": "stream",
          "text": [
            "roc_auc_score for DecisionTree:  0.8772590361445783\n",
            "roc_auc_score for Logistic Regression:  0.945632530120482\n"
          ],
          "name": "stdout"
        },
        {
          "output_type": "display_data",
          "data": {
            "image/png": "[encoded data removed]",
            "text/plain": [
              "<Figure size 720x720 with 1 Axes>"
            ]
          },
          "metadata": {
            "tags": [],
            "needs_background": "light"
          }
        },
        {
          "output_type": "display_data",
          "data": {
            "image/png": "[encoded data removed]",
            "text/plain": [
              "<Figure size 720x720 with 1 Axes>"
            ]
          },
          "metadata": {
            "tags": [],
            "needs_background": "light"
          }
        }
      ]
    },
    {
      "cell_type": "code",
      "metadata": {
        "id": "NiQuYXDXhHne"
      },
      "source": [
        "X = data2\n",
        "y_score3 = clf2.predict_proba(X)[:,1]\n"
      ],
      "execution_count": 57,
      "outputs": []
    },
    {
      "cell_type": "code",
      "metadata": {
        "colab": {
          "base_uri": "https://localhost:8080/",
          "height": 232
        },
        "id": "-XNhacnphHnf",
        "outputId": "e5f81307-4d09-4ae0-9a7c-eef4fd222b05"
      },
      "source": [
        "dff = pd.DataFrame(y_score3 , columns = ['Attrition'] )\n",
        "dff['Id'] = np.arange(start=1, stop=471 )\n",
        "dff.set_index('Id').head()"
      ],
      "execution_count": 59,
      "outputs": [
        {
          "output_type": "execute_result",
          "data": {
            "text/html": [
              "<div>\n",
              "<style scoped>\n",
              "    .dataframe tbody tr th:only-of-type {\n",
              "        vertical-align: middle;\n",
              "    }\n",
              "\n",
              "    .dataframe tbody tr th {\n",
              "        vertical-align: top;\n",
              "    }\n",
              "\n",
              "    .dataframe thead th {\n",
              "        text-align: right;\n",
              "    }\n",
              "</style>\n",
              "<table border=\"1\" class=\"dataframe\">\n",
              "  <thead>\n",
              "    <tr style=\"text-align: right;\">\n",
              "      <th></th>\n",
              "      <th>Attrition</th>\n",
              "    </tr>\n",
              "    <tr>\n",
              "      <th>Id</th>\n",
              "      <th></th>\n",
              "    </tr>\n",
              "  </thead>\n",
              "  <tbody>\n",
              "    <tr>\n",
              "      <th>1</th>\n",
              "      <td>0.016919</td>\n",
              "    </tr>\n",
              "    <tr>\n",
              "      <th>2</th>\n",
              "      <td>0.013747</td>\n",
              "    </tr>\n",
              "    <tr>\n",
              "      <th>3</th>\n",
              "      <td>0.039934</td>\n",
              "    </tr>\n",
              "    <tr>\n",
              "      <th>4</th>\n",
              "      <td>0.013942</td>\n",
              "    </tr>\n",
              "    <tr>\n",
              "      <th>5</th>\n",
              "      <td>0.002697</td>\n",
              "    </tr>\n",
              "  </tbody>\n",
              "</table>\n",
              "</div>"
            ],
            "text/plain": [
              "    Attrition\n",
              "Id           \n",
              "1    0.016919\n",
              "2    0.013747\n",
              "3    0.039934\n",
              "4    0.013942\n",
              "5    0.002697"
            ]
          },
          "metadata": {
            "tags": []
          },
          "execution_count": 59
        }
      ]
    },
    {
      "cell_type": "code",
      "metadata": {
        "id": "11QXz6jBhHnf"
      },
      "source": [
        "from IPython.display import HTML\n",
        "import pandas as pd\n",
        "import numpy as np\n",
        "import base64\n",
        "\n",
        "# function that takes in a dataframe and creates a text link to  \n",
        "# download it (will only work for files < 2MB or so)\n",
        "def create_download_link(df, title = \"Download CSV file\", filename = \"data.csv\"):  \n",
        "    csv = df.to_csv()\n",
        "    b64 = base64.b64encode(csv.encode())\n",
        "    payload = b64.decode()\n",
        "    html = '<a download=\"{filename}\" href=\"data:text/csv;base64,{payload}\" target=\"_blank\">{title}</a>'\n",
        "    html = html.format(payload=payload,title=title,filename=filename)\n",
        "    return HTML(html)\n",
        "\n",
        "# create a random sample dataframe\n",
        "df = dff"
      ],
      "execution_count": 60,
      "outputs": []
    },
    {
      "cell_type": "code",
      "metadata": {
        "colab": {
          "base_uri": "https://localhost:8080/",
          "height": 33
        },
        "id": "QUamWso8hHnf",
        "outputId": "93ff1a15-9350-4897-cb8b-031e3c9acde9"
      },
      "source": [
        "create_download_link(df)"
      ],
      "execution_count": 61,
      "outputs": [
        {
          "output_type": "execute_result",
          "data": {
            "text/html": [
              "<a download=\"data.csv\" href=\"data:text/csv;base64,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\" target=\"_blank\">Download CSV file</a>"
            ],
            "text/plain": [
              "<IPython.core.display.HTML object>"
            ]
          },
          "metadata": {
            "tags": []
          },
          "execution_count": 61
        }
      ]
    },
    {
      "cell_type": "code",
      "metadata": {
        "id": "pe2LjUjgikHJ"
      },
      "source": [
        ""
      ],
      "execution_count": null,
      "outputs": []
    }
  ]
}